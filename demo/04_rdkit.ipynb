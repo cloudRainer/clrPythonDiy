{
 "cells": [
  {
   "cell_type": "code",
   "execution_count": 6,
   "metadata": {
    "collapsed": true
   },
   "outputs": [],
   "source": [
    "# 基础包\n",
    "from io import BytesIO\n",
    "\n",
    "from rdkit import Chem\n",
    "from rdkit.Chem import AllChem\n",
    "from rdkit.Chem import Draw"
   ]
  },
  {
   "cell_type": "code",
   "execution_count": 13,
   "outputs": [
    {
     "data": {
      "text/plain": "<PIL.PngImagePlugin.PngImageFile image mode=RGB size=300x300 at 0x15F698FCA60>",
      "image/png": "[encoded data removed]"
     },
     "execution_count": 13,
     "metadata": {},
     "output_type": "execute_result"
    }
   ],
   "source": [
    "smi = 'C1=CC=C(C=C1)C(=O)C=CC2=CC=C(C=C2)Br'\n",
    "# 生成分子对象\n",
    "mol = Chem.MolFromSmiles(smi)\n",
    "# 出图\n",
    "img = Draw.MolToImage(mol)\n",
    "# 图片展示\n",
    "img.show()\n",
    "img"
   ],
   "metadata": {
    "collapsed": false,
    "pycharm": {
     "name": "#%%\n"
    }
   }
  },
  {
   "cell_type": "code",
   "execution_count": 11,
   "outputs": [],
   "source": [
    "# 图片存储为文件\n",
    "img.save(\"s2.png\")"
   ],
   "metadata": {
    "collapsed": false,
    "pycharm": {
     "name": "#%%\n"
    }
   }
  },
  {
   "cell_type": "code",
   "execution_count": 14,
   "outputs": [],
   "source": [
    "# 获取图片二进制信息,用于存储\n",
    "buffer = BytesIO()\n",
    "img.save(buffer, format='PNG')\n",
    "binary_image = buffer.getvalue()\n",
    "# 验证\n",
    "with open(\"s3.png\",\"wb\") as file:\n",
    "    file.write(binary_image)"
   ],
   "metadata": {
    "collapsed": false,
    "pycharm": {
     "name": "#%%\n"
    }
   }
  },
  {
   "cell_type": "code",
   "execution_count": 15,
   "outputs": [
    {
     "data": {
      "text/plain": "'\\n     RDKit          2D\\n\\n 17 18  0  0  0  0  0  0  0  0999 V2000\\n    1.5000    0.0000    0.0000 C   0  0  0  0  0  0  0  0  0  0  0  0\\n    0.7500   -1.2990    0.0000 C   0  0  0  0  0  0  0  0  0  0  0  0\\n   -0.7500   -1.2990    0.0000 C   0  0  0  0  0  0  0  0  0  0  0  0\\n   -1.5000    0.0000    0.0000 C   0  0  0  0  0  0  0  0  0  0  0  0\\n   -0.7500    1.2990    0.0000 C   0  0  0  0  0  0  0  0  0  0  0  0\\n    0.7500    1.2990    0.0000 C   0  0  0  0  0  0  0  0  0  0  0  0\\n   -3.0000    0.0000    0.0000 C   0  0  0  0  0  0  0  0  0  0  0  0\\n   -3.7500   -1.2990    0.0000 O   0  0  0  0  0  0  0  0  0  0  0  0\\n   -3.7500    1.2990    0.0000 C   0  0  0  0  0  0  0  0  0  0  0  0\\n   -5.2500    1.2990    0.0000 C   0  0  0  0  0  0  0  0  0  0  0  0\\n   -6.0000    2.5981    0.0000 C   0  0  0  0  0  0  0  0  0  0  0  0\\n   -5.2500    3.8971    0.0000 C   0  0  0  0  0  0  0  0  0  0  0  0\\n   -6.0000    5.1962    0.0000 C   0  0  0  0  0  0  0  0  0  0  0  0\\n   -7.5000    5.1962    0.0000 C   0  0  0  0  0  0  0  0  0  0  0  0\\n   -8.2500    3.8971    0.0000 C   0  0  0  0  0  0  0  0  0  0  0  0\\n   -7.5000    2.5981    0.0000 C   0  0  0  0  0  0  0  0  0  0  0  0\\n   -8.2500    6.4952    0.0000 Br  0  0  0  0  0  0  0  0  0  0  0  0\\n  1  2  2  0\\n  2  3  1  0\\n  3  4  2  0\\n  4  5  1  0\\n  5  6  2  0\\n  4  7  1  0\\n  7  8  2  0\\n  7  9  1  0\\n  9 10  2  3\\n 10 11  1  0\\n 11 12  2  0\\n 12 13  1  0\\n 13 14  2  0\\n 14 15  1  0\\n 15 16  2  0\\n 14 17  1  0\\n  6  1  1  0\\n 16 11  1  0\\nM  END\\n'"
     },
     "execution_count": 15,
     "metadata": {},
     "output_type": "execute_result"
    }
   ],
   "source": [
    "# mol信息、2dsdf数据\n",
    "sdf_content = Chem.MolToMolBlock(mol)\n",
    "sdf_content"
   ],
   "metadata": {
    "collapsed": false,
    "pycharm": {
     "name": "#%%\n"
    }
   }
  },
  {
   "cell_type": "code",
   "execution_count": 17,
   "outputs": [],
   "source": [
    "# mol信息、2dsdf数据存储文件\n",
    "Chem.MolToMolFile(mol,filename=\"mol.sdf\")"
   ],
   "metadata": {
    "collapsed": false,
    "pycharm": {
     "name": "#%%\n"
    }
   }
  },
  {
   "cell_type": "code",
   "execution_count": 18,
   "outputs": [
    {
     "data": {
      "text/plain": "'\\n     RDKit          3D\\n\\n 28 29  0  0  0  0  0  0  0  0999 V2000\\n    5.0367    0.7930    0.1423 C   0  0  0  0  0  0  0  0  0  0  0  0\\n    3.9013    1.5286    0.4808 C   0  0  0  0  0  0  0  0  0  0  0  0\\n    2.6549    0.9011    0.5571 C   0  0  0  0  0  0  0  0  0  0  0  0\\n    2.5418   -0.4684    0.2844 C   0  0  0  0  0  0  0  0  0  0  0  0\\n    3.6902   -1.2043   -0.0372 C   0  0  0  0  0  0  0  0  0  0  0  0\\n    4.9331   -0.5734   -0.1129 C   0  0  0  0  0  0  0  0  0  0  0  0\\n    1.2447   -1.1938    0.3556 C   0  0  0  0  0  0  0  0  0  0  0  0\\n    1.2224   -2.3898    0.6282 O   0  0  0  0  0  0  0  0  0  0  0  0\\n    0.0007   -0.4348    0.0485 C   0  0  0  0  0  0  0  0  0  0  0  0\\n   -1.1929   -1.0099    0.2619 C   0  0  0  0  0  0  0  0  0  0  0  0\\n   -2.4784   -0.3663   -0.0366 C   0  0  0  0  0  0  0  0  0  0  0  0\\n   -3.5275   -1.1536   -0.5305 C   0  0  0  0  0  0  0  0  0  0  0  0\\n   -4.7758   -0.5876   -0.8055 C   0  0  0  0  0  0  0  0  0  0  0  0\\n   -4.9836    0.7699   -0.5754 C   0  0  0  0  0  0  0  0  0  0  0  0\\n   -3.9574    1.5639   -0.0688 C   0  0  0  0  0  0  0  0  0  0  0  0\\n   -2.7096    0.9951    0.2045 C   0  0  0  0  0  0  0  0  0  0  0  0\\n   -6.6704    1.5382   -0.9445 Br  0  0  0  0  0  0  0  0  0  0  0  0\\n    6.0059    1.2831    0.0868 H   0  0  0  0  0  0  0  0  0  0  0  0\\n    3.9896    2.5912    0.6950 H   0  0  0  0  0  0  0  0  0  0  0  0\\n    1.7944    1.4930    0.8545 H   0  0  0  0  0  0  0  0  0  0  0  0\\n    3.6186   -2.2732   -0.2310 H   0  0  0  0  0  0  0  0  0  0  0  0\\n    5.8193   -1.1499   -0.3664 H   0  0  0  0  0  0  0  0  0  0  0  0\\n    0.0910    0.5546   -0.3797 H   0  0  0  0  0  0  0  0  0  0  0  0\\n   -1.2491   -2.0246    0.6545 H   0  0  0  0  0  0  0  0  0  0  0  0\\n   -3.3791   -2.2163   -0.7138 H   0  0  0  0  0  0  0  0  0  0  0  0\\n   -5.5738   -1.2141   -1.1951 H   0  0  0  0  0  0  0  0  0  0  0  0\\n   -4.1183    2.6214    0.1231 H   0  0  0  0  0  0  0  0  0  0  0  0\\n   -1.9287    1.6269    0.6202 H   0  0  0  0  0  0  0  0  0  0  0  0\\n  1  2  2  0\\n  2  3  1  0\\n  3  4  2  0\\n  4  5  1  0\\n  5  6  2  0\\n  4  7  1  0\\n  7  8  2  0\\n  7  9  1  0\\n  9 10  2  3\\n 10 11  1  0\\n 11 12  2  0\\n 12 13  1  0\\n 13 14  2  0\\n 14 15  1  0\\n 15 16  2  0\\n 14 17  1  0\\n  6  1  1  0\\n 16 11  1  0\\n  1 18  1  0\\n  2 19  1  0\\n  3 20  1  0\\n  5 21  1  0\\n  6 22  1  0\\n  9 23  1  0\\n 10 24  1  0\\n 12 25  1  0\\n 13 26  1  0\\n 15 27  1  0\\n 16 28  1  0\\nM  END\\n'"
     },
     "execution_count": 18,
     "metadata": {},
     "output_type": "execute_result"
    }
   ],
   "source": [
    "#3dsdf数据\n",
    "mol = Chem.AddHs(mol)\n",
    "AllChem.EmbedMolecule(mol)\n",
    "AllChem.MMFFOptimizeMolecule(mol)\n",
    "sdf_content_3d = Chem.MolToMolBlock(mol)\n",
    "sdf_content_3d"
   ],
   "metadata": {
    "collapsed": false,
    "pycharm": {
     "name": "#%%\n"
    }
   }
  },
  {
   "cell_type": "code",
   "execution_count": 20,
   "outputs": [],
   "source": [
    "# 3dsdf数据存储文件\n",
    "Chem.MolToMolFile(mol,filename=\"3d_mol.sdf\")"
   ],
   "metadata": {
    "collapsed": false,
    "pycharm": {
     "name": "#%%\n"
    }
   }
  },
  {
   "cell_type": "code",
   "execution_count": null,
   "outputs": [],
   "source": [],
   "metadata": {
    "collapsed": false,
    "pycharm": {
     "name": "#%%\n"
    }
   }
  }
 ],
 "metadata": {
  "kernelspec": {
   "display_name": "Python 3",
   "language": "python",
   "name": "python3"
  },
  "language_info": {
   "codemirror_mode": {
    "name": "ipython",
    "version": 2
   },
   "file_extension": ".py",
   "mimetype": "text/x-python",
   "name": "python",
   "nbconvert_exporter": "python",
   "pygments_lexer": "ipython2",
   "version": "2.7.6"
  }
 },
 "nbformat": 4,
 "nbformat_minor": 0
}