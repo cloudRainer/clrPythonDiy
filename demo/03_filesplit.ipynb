{
 "cells": [
  {
   "cell_type": "markdown",
   "source": [
    "#### python 等分切割日志文件【filesplit】\n",
    "碰到这样的需求，将日志文件等分切割，可按数据量，也可以按行数等分，但不能把任一行断开【不用绝对等分】，行的格式是固定的，断开后会影响解析，尝试用python自带的读写模块写逻辑，可以逐行读取按行数切割文件，也能做到按字符量的能分，但效率不是太满意，百度后，filesplit模块刚好能满足需求，效率还高了不少，期间碰到了一篇奇葩文章，羊头狗肉，安装的是filesplit模块，下面给的demo确是fsplit。\n",
    "\n",
    "先扔块砖,逐行读取内容，避免大量占用内存，读一行写一行，用flag记录当前已写入数据量"
   ],
   "metadata": {
    "collapsed": false
   }
  },
  {
   "cell_type": "code",
   "execution_count": 1,
   "outputs": [],
   "source": [
    "import os\n",
    "file_path = \"../files/a_level_1.txt\"\n",
    "# 按数据量进行分割\n",
    "def spbysize(file_path,size=2000000,to=''):\n",
    "    if not os.path.exists(file_path):\n",
    "        print(\"文件不存在\")\n",
    "        return\n",
    "    flag = 0\n",
    "    idx = 1\n",
    "    file_name = os.path.basename(file_path).split(\".\")\n",
    "    to_file_tpl = file_name[0]+\"_{}_.\"+file_name[1]\n",
    "    if to:\n",
    "        to_file_tpl = to+\"/\"+to_file_tpl\n",
    "    to_file_name = to_file_tpl.format(idx)\n",
    "    with open(file_path) as file:\n",
    "        for line in file:\n",
    "            with open(to_file_name,mode=\"a\") as input_file:\n",
    "                input_file.write(line)\n",
    "            flag += len(line)\n",
    "            if flag >= size:\n",
    "                flag = 0\n",
    "                idx += 1\n",
    "                to_file_name = to_file_tpl.format(idx)\n",
    "# 按行数进行分割\n",
    "def spbylinecount(file_path,len=100000,to=''):\n",
    "    if not os.path.exists(file_path):\n",
    "        print(\"文件不存在\")\n",
    "        return\n",
    "    flag = 0\n",
    "    idx = 1\n",
    "    file_name = os.path.basename(file_path).split(\".\")\n",
    "    to_file_tpl = file_name[0]+\"_{}_.\"+file_name[1]\n",
    "    if to:\n",
    "        to_file_tpl = to+\"/\"+to_file_tpl\n",
    "    to_file_name = to_file_tpl.format(idx)\n",
    "    with open(file_path) as file:\n",
    "        for line in file:\n",
    "            with open(to_file_name,mode=\"a\") as input_file:\n",
    "                input_file.write(line)\n",
    "            flag += 1\n",
    "            if flag >= len:\n",
    "                flag = 0\n",
    "                idx += 1\n",
    "                to_file_name = to_file_tpl.format(idx)"
   ],
   "metadata": {
    "collapsed": false,
    "pycharm": {
     "name": "#%%\n"
    }
   }
  },
  {
   "cell_type": "markdown",
   "source": [
    "用一个13M的文件试了一下，分割的文件没问题，挺均匀，也没断行，只是时间上太惨淡，500+秒。可能是逐行的读取方式导致，如果用read方法，可能会快一些，但会出现断行。\n"
   ],
   "metadata": {
    "collapsed": false
   }
  },
  {
   "cell_type": "code",
   "execution_count": 9,
   "outputs": [
    {
     "data": {
      "text/plain": "592.1513235569"
     },
     "execution_count": 9,
     "metadata": {},
     "output_type": "execute_result"
    }
   ],
   "source": [
    "import time\n",
    "file_path = \"../files/a_level_1.txt\"\n",
    "time_start = time.time()\n",
    "spbylinecount(file_path)\n",
    "time.time() - time_start"
   ],
   "metadata": {
    "collapsed": false,
    "pycharm": {
     "name": "#%%\n"
    }
   }
  },
  {
   "cell_type": "markdown",
   "source": [
    "再看下filesplit版\n",
    "\n",
    "- 安装：pip install filesplit\n",
    "- 引入: from filesplit.split import Split\n",
    "- 先声明一个Split(inputfile=\"\",outputdir=\"\")对象,inputfile:源文件，必传，outputdir:生成文件存储目录，必传\n",
    "- 分割函数【按数据量】bysize(size=2000000,newline=True) size：单个文件大小，newline：为True的话，能保持每行的完整性，不会断行，默认False\n",
    "- 分割函数 【按行数】bylinecount(100000)\n",
    "- 时间量在1s以内\n",
    "\n",
    "###### 按数据量分割"
   ],
   "metadata": {
    "collapsed": false,
    "pycharm": {
     "name": "#%% md\n"
    }
   }
  },
  {
   "cell_type": "code",
   "execution_count": 4,
   "outputs": [
    {
     "data": {
      "text/plain": "0.33939194679260254"
     },
     "execution_count": 4,
     "metadata": {},
     "output_type": "execute_result"
    }
   ],
   "source": [
    "import time\n",
    "from filesplit.split import Split\n",
    "time_start = time.time()\n",
    "file_path = \"../files/a_level_1.txt\"\n",
    "split = Split(inputfile=file_path,outputdir=\"../files/\")\n",
    "split.bysize(size=2000000,newline=True)\n",
    "time.time() - time_start"
   ],
   "metadata": {
    "collapsed": false,
    "pycharm": {
     "name": "#%%\n"
    }
   }
  },
  {
   "cell_type": "code",
   "execution_count": 3,
   "outputs": [],
   "source": [],
   "metadata": {
    "collapsed": false,
    "pycharm": {
     "name": "#%%\n"
    }
   }
  },
  {
   "cell_type": "markdown",
   "source": [
    "###### 按行数分割"
   ],
   "metadata": {
    "collapsed": false
   }
  },
  {
   "cell_type": "code",
   "execution_count": 5,
   "outputs": [
    {
     "data": {
      "text/plain": "0.2572145462036133"
     },
     "execution_count": 5,
     "metadata": {},
     "output_type": "execute_result"
    }
   ],
   "source": [
    "import time\n",
    "from filesplit.split import Split\n",
    "time_start = time.time()\n",
    "file_path = \"../files/a_level_1.txt\"\n",
    "split = Split(inputfile=file_path,outputdir=\"../files/\")\n",
    "split.bylinecount(10000000)\n",
    "time.time() - time_start\n"
   ],
   "metadata": {
    "collapsed": false,
    "pycharm": {
     "name": "#%%\n"
    }
   }
  },
  {
   "cell_type": "markdown",
   "source": [
    "有尝试了个超大文件【7.63G】，70秒"
   ],
   "metadata": {
    "collapsed": false
   }
  },
  {
   "cell_type": "code",
   "execution_count": 7,
   "outputs": [
    {
     "data": {
      "text/plain": "70.94820404052734"
     },
     "execution_count": 7,
     "metadata": {},
     "output_type": "execute_result"
    }
   ],
   "source": [
    "import time\n",
    "from filesplit.split import Split\n",
    "time_start = time.time()\n",
    "file_path = \"../files/lines.txt\"\n",
    "split = Split(inputfile=file_path,outputdir=\"../files/\")\n",
    "split.bylinecount(10000000)\n",
    "time.time() - time_start"
   ],
   "metadata": {
    "collapsed": false,
    "pycharm": {
     "name": "#%%\n"
    }
   }
  }
 ],
 "metadata": {
  "kernelspec": {
   "display_name": "Python 3",
   "language": "python",
   "name": "python3"
  },
  "language_info": {
   "codemirror_mode": {
    "name": "ipython",
    "version": 2
   },
   "file_extension": ".py",
   "mimetype": "text/x-python",
   "name": "python",
   "nbconvert_exporter": "python",
   "pygments_lexer": "ipython2",
   "version": "2.7.6"
  }
 },
 "nbformat": 4,
 "nbformat_minor": 0
}