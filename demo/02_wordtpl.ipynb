{
 "cells": [
  {
   "cell_type": "markdown",
   "metadata": {
    "collapsed": true,
    "pycharm": {
     "name": "#%% md\n"
    }
   },
   "source": [
    "#### python 通过word模板批量生成word文档【docxtpl】\n",
    "- 通过变量替换，动态向word模板中插入标题、文字、图片\n",
    "![picture](../files/tpl.png)"
   ]
  },
  {
   "cell_type": "code",
   "execution_count": 2,
   "outputs": [],
   "source": [
    "import base64\n",
    "from docxtpl import DocxTemplate,InlineImage\n",
    "# 引入尺寸参数\n",
    "from docx.shared import Mm, Inches, Pt\n",
    "# 加载模板\n",
    "tpl = DocxTemplate('../files/word-tpl.docx')\n",
    "img_1 = InlineImage(tpl, image_descriptor=f'../files/01.png',width=Mm(145))\n",
    "context = {\n",
    "    'img_1': img_1,\n",
    "    'title_1': \"sss\",\n",
    "    'text_1': \"img_1_1_1_2\",\n",
    "    'text_2': \"img_1_1_1_3\",\n",
    "    'll': [1,2,4]\n",
    "}\n",
    "tpl.render(context)\n",
    "# tpl.save(f'../files/单挑轨迹.docx')\n",
    "\n",
    "\n",
    "\n"
   ],
   "metadata": {
    "collapsed": false,
    "pycharm": {
     "name": "#%%\n"
    }
   }
  }
 ],
 "metadata": {
  "kernelspec": {
   "display_name": "Python 3",
   "language": "python",
   "name": "python3"
  },
  "language_info": {
   "codemirror_mode": {
    "name": "ipython",
    "version": 2
   },
   "file_extension": ".py",
   "mimetype": "text/x-python",
   "name": "python",
   "nbconvert_exporter": "python",
   "pygments_lexer": "ipython2",
   "version": "2.7.6"
  }
 },
 "nbformat": 4,
 "nbformat_minor": 0
}