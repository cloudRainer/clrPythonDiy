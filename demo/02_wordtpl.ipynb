{
 "cells": [
  {
   "cell_type": "markdown",
   "metadata": {
    "collapsed": true,
    "pycharm": {
     "name": "#%% md\n"
    }
   },
   "source": [
    "#### python 通过word模板批量生成word文档【docxtpl】\n",
    "- 通过docxtpl模块实现，变量替换，动态向word模板中插入标题、文字、图片\n",
    "- 模板内容截图如下\n",
    "![picture](../files/tpl.png)\n",
    "- 标题和内容替换简单\n",
    "- 难点1，插入图片，通过InlineImage载入图片，并设置图片尺寸\n",
    "- 难点2，通过for 循环插入内容\n",
    "\n",
    "##### 代码如下"
   ]
  },
  {
   "cell_type": "code",
   "execution_count": 6,
   "outputs": [],
   "source": [
    "from docxtpl import DocxTemplate,InlineImage\n",
    "# 引入尺寸参数\n",
    "from docx.shared import Mm, Inches, Pt\n",
    "# 加载模板\n",
    "tpl = DocxTemplate('../files/word-tpl.docx')\n",
    "# 载入图片\n",
    "img_1 = InlineImage(tpl, image_descriptor=f'../files/01.png',width=Mm(145))\n",
    "# 组合变量\n",
    "context = {\n",
    "    'img_1': img_1,\n",
    "    'title_1': \"标题\",\n",
    "    'text_1': \"文字1\",\n",
    "    'text_2': \"文字2\",\n",
    "    'll': [\"遍历01\",\"遍历02\",\"遍历03\"]\n",
    "}\n",
    "# 渲染变量\n",
    "tpl.render(context)\n",
    "# 保存文件\n",
    "tpl.save(f'../files/res.docx')"
   ],
   "metadata": {
    "collapsed": false,
    "pycharm": {
     "name": "#%%\n"
    }
   }
  },
  {
   "cell_type": "markdown",
   "source": [
    "##### 结果如下\n",
    "![picture](../files/tplres.png)\n",
    "\n"
   ],
   "metadata": {
    "collapsed": false
   }
  }
 ],
 "metadata": {
  "kernelspec": {
   "display_name": "Python 3",
   "language": "python",
   "name": "python3"
  },
  "language_info": {
   "codemirror_mode": {
    "name": "ipython",
    "version": 2
   },
   "file_extension": ".py",
   "mimetype": "text/x-python",
   "name": "python",
   "nbconvert_exporter": "python",
   "pygments_lexer": "ipython2",
   "version": "2.7.6"
  }
 },
 "nbformat": 4,
 "nbformat_minor": 0
}