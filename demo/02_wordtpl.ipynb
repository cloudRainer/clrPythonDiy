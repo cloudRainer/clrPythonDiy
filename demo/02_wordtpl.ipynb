{
 "cells": [
  {
   "cell_type": "markdown",
   "metadata": {
    "collapsed": true,
    "pycharm": {
     "name": "#%% md\n"
    }
   },
   "source": [
    "#### python 通过word模板批量生成word文档【docxtpl】\n",
    "- 通过变量替换，动态向word模板中插入标题、文字、图片\n",
    "- 模板内容截图如下\n",
    "![picture](../files/tpl.png)\n",
    "- 标题和内容替换简单\n",
    "- 难点1，插入图片，通过InlineImage载入图片，并设置图片尺寸\n",
    "- 难点2，通过for 循环插入内容\n",
    "##### 代码如下"
   ]
  },
  {
   "cell_type": "code",
   "execution_count": 3,
   "outputs": [
    {
     "ename": "PermissionError",
     "evalue": "[Errno 13] Permission denied: '../files/单挑轨迹.docx'",
     "output_type": "error",
     "traceback": [
      "\u001B[1;31m---------------------------------------------------------------------------\u001B[0m",
      "\u001B[1;31mPermissionError\u001B[0m                           Traceback (most recent call last)",
      "\u001B[1;32m~\\AppData\\Local\\Temp/ipykernel_68048/534395032.py\u001B[0m in \u001B[0;36m<module>\u001B[1;34m\u001B[0m\n\u001B[0;32m     14\u001B[0m }\n\u001B[0;32m     15\u001B[0m \u001B[0mtpl\u001B[0m\u001B[1;33m.\u001B[0m\u001B[0mrender\u001B[0m\u001B[1;33m(\u001B[0m\u001B[0mcontext\u001B[0m\u001B[1;33m)\u001B[0m\u001B[1;33m\u001B[0m\u001B[1;33m\u001B[0m\u001B[0m\n\u001B[1;32m---> 16\u001B[1;33m \u001B[0mtpl\u001B[0m\u001B[1;33m.\u001B[0m\u001B[0msave\u001B[0m\u001B[1;33m(\u001B[0m\u001B[1;34mf'../files/单挑轨迹.docx'\u001B[0m\u001B[1;33m)\u001B[0m\u001B[1;33m\u001B[0m\u001B[1;33m\u001B[0m\u001B[0m\n\u001B[0m\u001B[0;32m     17\u001B[0m \u001B[1;33m\u001B[0m\u001B[0m\n\u001B[0;32m     18\u001B[0m \u001B[1;33m\u001B[0m\u001B[0m\n",
      "\u001B[1;32m~\\.conda\\envs\\py3.7\\lib\\site-packages\\docxtpl\\template.py\u001B[0m in \u001B[0;36msave\u001B[1;34m(self, filename, *args, **kwargs)\u001B[0m\n\u001B[0;32m    717\u001B[0m             \u001B[0mself\u001B[0m\u001B[1;33m.\u001B[0m\u001B[0mdocx\u001B[0m \u001B[1;33m=\u001B[0m \u001B[0mDocument\u001B[0m\u001B[1;33m(\u001B[0m\u001B[0mself\u001B[0m\u001B[1;33m.\u001B[0m\u001B[0mtemplate_file\u001B[0m\u001B[1;33m)\u001B[0m\u001B[1;33m\u001B[0m\u001B[1;33m\u001B[0m\u001B[0m\n\u001B[0;32m    718\u001B[0m         \u001B[0mself\u001B[0m\u001B[1;33m.\u001B[0m\u001B[0mpre_processing\u001B[0m\u001B[1;33m(\u001B[0m\u001B[1;33m)\u001B[0m\u001B[1;33m\u001B[0m\u001B[1;33m\u001B[0m\u001B[0m\n\u001B[1;32m--> 719\u001B[1;33m         \u001B[0mself\u001B[0m\u001B[1;33m.\u001B[0m\u001B[0mdocx\u001B[0m\u001B[1;33m.\u001B[0m\u001B[0msave\u001B[0m\u001B[1;33m(\u001B[0m\u001B[0mfilename\u001B[0m\u001B[1;33m,\u001B[0m \u001B[1;33m*\u001B[0m\u001B[0margs\u001B[0m\u001B[1;33m,\u001B[0m \u001B[1;33m**\u001B[0m\u001B[0mkwargs\u001B[0m\u001B[1;33m)\u001B[0m\u001B[1;33m\u001B[0m\u001B[1;33m\u001B[0m\u001B[0m\n\u001B[0m\u001B[0;32m    720\u001B[0m         \u001B[0mself\u001B[0m\u001B[1;33m.\u001B[0m\u001B[0mpost_processing\u001B[0m\u001B[1;33m(\u001B[0m\u001B[0mfilename\u001B[0m\u001B[1;33m)\u001B[0m\u001B[1;33m\u001B[0m\u001B[1;33m\u001B[0m\u001B[0m\n\u001B[0;32m    721\u001B[0m         \u001B[0mself\u001B[0m\u001B[1;33m.\u001B[0m\u001B[0mis_saved\u001B[0m \u001B[1;33m=\u001B[0m \u001B[1;32mTrue\u001B[0m\u001B[1;33m\u001B[0m\u001B[1;33m\u001B[0m\u001B[0m\n",
      "\u001B[1;32m~\\.conda\\envs\\py3.7\\lib\\site-packages\\docx\\document.py\u001B[0m in \u001B[0;36msave\u001B[1;34m(self, path_or_stream)\u001B[0m\n\u001B[0;32m    133\u001B[0m         \u001B[0ma\u001B[0m \u001B[0mfilesystem\u001B[0m \u001B[0mlocation\u001B[0m \u001B[1;33m(\u001B[0m\u001B[0ma\u001B[0m \u001B[0mstring\u001B[0m\u001B[1;33m)\u001B[0m \u001B[1;32mor\u001B[0m \u001B[0ma\u001B[0m \u001B[0mfile\u001B[0m\u001B[1;33m-\u001B[0m\u001B[0mlike\u001B[0m \u001B[0mobject\u001B[0m\u001B[1;33m.\u001B[0m\u001B[1;33m\u001B[0m\u001B[1;33m\u001B[0m\u001B[0m\n\u001B[0;32m    134\u001B[0m         \"\"\"\n\u001B[1;32m--> 135\u001B[1;33m         \u001B[0mself\u001B[0m\u001B[1;33m.\u001B[0m\u001B[0m_part\u001B[0m\u001B[1;33m.\u001B[0m\u001B[0msave\u001B[0m\u001B[1;33m(\u001B[0m\u001B[0mpath_or_stream\u001B[0m\u001B[1;33m)\u001B[0m\u001B[1;33m\u001B[0m\u001B[1;33m\u001B[0m\u001B[0m\n\u001B[0m\u001B[0;32m    136\u001B[0m \u001B[1;33m\u001B[0m\u001B[0m\n\u001B[0;32m    137\u001B[0m     \u001B[1;33m@\u001B[0m\u001B[0mproperty\u001B[0m\u001B[1;33m\u001B[0m\u001B[1;33m\u001B[0m\u001B[0m\n",
      "\u001B[1;32m~\\.conda\\envs\\py3.7\\lib\\site-packages\\docx\\parts\\document.py\u001B[0m in \u001B[0;36msave\u001B[1;34m(self, path_or_stream)\u001B[0m\n\u001B[0;32m    109\u001B[0m         \u001B[0ma\u001B[0m \u001B[0mfilesystem\u001B[0m \u001B[0mlocation\u001B[0m \u001B[1;33m(\u001B[0m\u001B[0ma\u001B[0m \u001B[0mstring\u001B[0m\u001B[1;33m)\u001B[0m \u001B[1;32mor\u001B[0m \u001B[0ma\u001B[0m \u001B[0mfile\u001B[0m\u001B[1;33m-\u001B[0m\u001B[0mlike\u001B[0m \u001B[0mobject\u001B[0m\u001B[1;33m.\u001B[0m\u001B[1;33m\u001B[0m\u001B[1;33m\u001B[0m\u001B[0m\n\u001B[0;32m    110\u001B[0m         \"\"\"\n\u001B[1;32m--> 111\u001B[1;33m         \u001B[0mself\u001B[0m\u001B[1;33m.\u001B[0m\u001B[0mpackage\u001B[0m\u001B[1;33m.\u001B[0m\u001B[0msave\u001B[0m\u001B[1;33m(\u001B[0m\u001B[0mpath_or_stream\u001B[0m\u001B[1;33m)\u001B[0m\u001B[1;33m\u001B[0m\u001B[1;33m\u001B[0m\u001B[0m\n\u001B[0m\u001B[0;32m    112\u001B[0m \u001B[1;33m\u001B[0m\u001B[0m\n\u001B[0;32m    113\u001B[0m     \u001B[1;33m@\u001B[0m\u001B[0mproperty\u001B[0m\u001B[1;33m\u001B[0m\u001B[1;33m\u001B[0m\u001B[0m\n",
      "\u001B[1;32m~\\.conda\\envs\\py3.7\\lib\\site-packages\\docx\\opc\\package.py\u001B[0m in \u001B[0;36msave\u001B[1;34m(self, pkg_file)\u001B[0m\n\u001B[0;32m    170\u001B[0m         \u001B[1;32mfor\u001B[0m \u001B[0mpart\u001B[0m \u001B[1;32min\u001B[0m \u001B[0mself\u001B[0m\u001B[1;33m.\u001B[0m\u001B[0mparts\u001B[0m\u001B[1;33m:\u001B[0m\u001B[1;33m\u001B[0m\u001B[1;33m\u001B[0m\u001B[0m\n\u001B[0;32m    171\u001B[0m             \u001B[0mpart\u001B[0m\u001B[1;33m.\u001B[0m\u001B[0mbefore_marshal\u001B[0m\u001B[1;33m(\u001B[0m\u001B[1;33m)\u001B[0m\u001B[1;33m\u001B[0m\u001B[1;33m\u001B[0m\u001B[0m\n\u001B[1;32m--> 172\u001B[1;33m         \u001B[0mPackageWriter\u001B[0m\u001B[1;33m.\u001B[0m\u001B[0mwrite\u001B[0m\u001B[1;33m(\u001B[0m\u001B[0mpkg_file\u001B[0m\u001B[1;33m,\u001B[0m \u001B[0mself\u001B[0m\u001B[1;33m.\u001B[0m\u001B[0mrels\u001B[0m\u001B[1;33m,\u001B[0m \u001B[0mself\u001B[0m\u001B[1;33m.\u001B[0m\u001B[0mparts\u001B[0m\u001B[1;33m)\u001B[0m\u001B[1;33m\u001B[0m\u001B[1;33m\u001B[0m\u001B[0m\n\u001B[0m\u001B[0;32m    173\u001B[0m \u001B[1;33m\u001B[0m\u001B[0m\n\u001B[0;32m    174\u001B[0m     \u001B[1;33m@\u001B[0m\u001B[0mproperty\u001B[0m\u001B[1;33m\u001B[0m\u001B[1;33m\u001B[0m\u001B[0m\n",
      "\u001B[1;32m~\\.conda\\envs\\py3.7\\lib\\site-packages\\docx\\opc\\pkgwriter.py\u001B[0m in \u001B[0;36mwrite\u001B[1;34m(pkg_file, pkg_rels, parts)\u001B[0m\n\u001B[0;32m     30\u001B[0m         \u001B[0mcontent\u001B[0m \u001B[0mtypes\u001B[0m \u001B[0mof\u001B[0m \u001B[0mthe\u001B[0m \u001B[0mparts\u001B[0m\u001B[1;33m.\u001B[0m\u001B[1;33m\u001B[0m\u001B[1;33m\u001B[0m\u001B[0m\n\u001B[0;32m     31\u001B[0m         \"\"\"\n\u001B[1;32m---> 32\u001B[1;33m         \u001B[0mphys_writer\u001B[0m \u001B[1;33m=\u001B[0m \u001B[0mPhysPkgWriter\u001B[0m\u001B[1;33m(\u001B[0m\u001B[0mpkg_file\u001B[0m\u001B[1;33m)\u001B[0m\u001B[1;33m\u001B[0m\u001B[1;33m\u001B[0m\u001B[0m\n\u001B[0m\u001B[0;32m     33\u001B[0m         \u001B[0mPackageWriter\u001B[0m\u001B[1;33m.\u001B[0m\u001B[0m_write_content_types_stream\u001B[0m\u001B[1;33m(\u001B[0m\u001B[0mphys_writer\u001B[0m\u001B[1;33m,\u001B[0m \u001B[0mparts\u001B[0m\u001B[1;33m)\u001B[0m\u001B[1;33m\u001B[0m\u001B[1;33m\u001B[0m\u001B[0m\n\u001B[0;32m     34\u001B[0m         \u001B[0mPackageWriter\u001B[0m\u001B[1;33m.\u001B[0m\u001B[0m_write_pkg_rels\u001B[0m\u001B[1;33m(\u001B[0m\u001B[0mphys_writer\u001B[0m\u001B[1;33m,\u001B[0m \u001B[0mpkg_rels\u001B[0m\u001B[1;33m)\u001B[0m\u001B[1;33m\u001B[0m\u001B[1;33m\u001B[0m\u001B[0m\n",
      "\u001B[1;32m~\\.conda\\envs\\py3.7\\lib\\site-packages\\docx\\opc\\phys_pkg.py\u001B[0m in \u001B[0;36m__init__\u001B[1;34m(self, pkg_file)\u001B[0m\n\u001B[0;32m    139\u001B[0m     \u001B[1;32mdef\u001B[0m \u001B[0m__init__\u001B[0m\u001B[1;33m(\u001B[0m\u001B[0mself\u001B[0m\u001B[1;33m,\u001B[0m \u001B[0mpkg_file\u001B[0m\u001B[1;33m)\u001B[0m\u001B[1;33m:\u001B[0m\u001B[1;33m\u001B[0m\u001B[1;33m\u001B[0m\u001B[0m\n\u001B[0;32m    140\u001B[0m         \u001B[0msuper\u001B[0m\u001B[1;33m(\u001B[0m\u001B[0m_ZipPkgWriter\u001B[0m\u001B[1;33m,\u001B[0m \u001B[0mself\u001B[0m\u001B[1;33m)\u001B[0m\u001B[1;33m.\u001B[0m\u001B[0m__init__\u001B[0m\u001B[1;33m(\u001B[0m\u001B[1;33m)\u001B[0m\u001B[1;33m\u001B[0m\u001B[1;33m\u001B[0m\u001B[0m\n\u001B[1;32m--> 141\u001B[1;33m         \u001B[0mself\u001B[0m\u001B[1;33m.\u001B[0m\u001B[0m_zipf\u001B[0m \u001B[1;33m=\u001B[0m \u001B[0mZipFile\u001B[0m\u001B[1;33m(\u001B[0m\u001B[0mpkg_file\u001B[0m\u001B[1;33m,\u001B[0m \u001B[1;34m'w'\u001B[0m\u001B[1;33m,\u001B[0m \u001B[0mcompression\u001B[0m\u001B[1;33m=\u001B[0m\u001B[0mZIP_DEFLATED\u001B[0m\u001B[1;33m)\u001B[0m\u001B[1;33m\u001B[0m\u001B[1;33m\u001B[0m\u001B[0m\n\u001B[0m\u001B[0;32m    142\u001B[0m \u001B[1;33m\u001B[0m\u001B[0m\n\u001B[0;32m    143\u001B[0m     \u001B[1;32mdef\u001B[0m \u001B[0mclose\u001B[0m\u001B[1;33m(\u001B[0m\u001B[0mself\u001B[0m\u001B[1;33m)\u001B[0m\u001B[1;33m:\u001B[0m\u001B[1;33m\u001B[0m\u001B[1;33m\u001B[0m\u001B[0m\n",
      "\u001B[1;32m~\\.conda\\envs\\py3.7\\lib\\zipfile.py\u001B[0m in \u001B[0;36m__init__\u001B[1;34m(self, file, mode, compression, allowZip64, compresslevel)\u001B[0m\n\u001B[0;32m   1238\u001B[0m             \u001B[1;32mwhile\u001B[0m \u001B[1;32mTrue\u001B[0m\u001B[1;33m:\u001B[0m\u001B[1;33m\u001B[0m\u001B[1;33m\u001B[0m\u001B[0m\n\u001B[0;32m   1239\u001B[0m                 \u001B[1;32mtry\u001B[0m\u001B[1;33m:\u001B[0m\u001B[1;33m\u001B[0m\u001B[1;33m\u001B[0m\u001B[0m\n\u001B[1;32m-> 1240\u001B[1;33m                     \u001B[0mself\u001B[0m\u001B[1;33m.\u001B[0m\u001B[0mfp\u001B[0m \u001B[1;33m=\u001B[0m \u001B[0mio\u001B[0m\u001B[1;33m.\u001B[0m\u001B[0mopen\u001B[0m\u001B[1;33m(\u001B[0m\u001B[0mfile\u001B[0m\u001B[1;33m,\u001B[0m \u001B[0mfilemode\u001B[0m\u001B[1;33m)\u001B[0m\u001B[1;33m\u001B[0m\u001B[1;33m\u001B[0m\u001B[0m\n\u001B[0m\u001B[0;32m   1241\u001B[0m                 \u001B[1;32mexcept\u001B[0m \u001B[0mOSError\u001B[0m\u001B[1;33m:\u001B[0m\u001B[1;33m\u001B[0m\u001B[1;33m\u001B[0m\u001B[0m\n\u001B[0;32m   1242\u001B[0m                     \u001B[1;32mif\u001B[0m \u001B[0mfilemode\u001B[0m \u001B[1;32min\u001B[0m \u001B[0mmodeDict\u001B[0m\u001B[1;33m:\u001B[0m\u001B[1;33m\u001B[0m\u001B[1;33m\u001B[0m\u001B[0m\n",
      "\u001B[1;31mPermissionError\u001B[0m: [Errno 13] Permission denied: '../files/单挑轨迹.docx'"
     ]
    }
   ],
   "source": [
    "from docxtpl import DocxTemplate,InlineImage\n",
    "# 引入尺寸参数\n",
    "from docx.shared import Mm, Inches, Pt\n",
    "# 加载模板\n",
    "tpl = DocxTemplate('../files/word-tpl.docx')\n",
    "# 载入图片\n",
    "img_1 = InlineImage(tpl, image_descriptor=f'../files/01.png',width=Mm(145))\n",
    "# 组合变量\n",
    "context = {\n",
    "    'img_1': img_1,\n",
    "    'title_1': \"sss\",\n",
    "    'text_1': \"img_1_1_1_2\",\n",
    "    'text_2': \"img_1_1_1_3\",\n",
    "    'll': [1,2,4]\n",
    "}\n",
    "# 渲染变量\n",
    "tpl.render(context)\n",
    "# 保存文件\n",
    "tpl.save(f'../files/单挑轨迹.docx')\n",
    "\n",
    "\n",
    "\n"
   ],
   "metadata": {
    "collapsed": false,
    "pycharm": {
     "name": "#%%\n"
    }
   }
  }
 ],
 "metadata": {
  "kernelspec": {
   "display_name": "Python 3",
   "language": "python",
   "name": "python3"
  },
  "language_info": {
   "codemirror_mode": {
    "name": "ipython",
    "version": 2
   },
   "file_extension": ".py",
   "mimetype": "text/x-python",
   "name": "python",
   "nbconvert_exporter": "python",
   "pygments_lexer": "ipython2",
   "version": "2.7.6"
  }
 },
 "nbformat": 4,
 "nbformat_minor": 0
}